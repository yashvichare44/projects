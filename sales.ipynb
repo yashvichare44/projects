{
 "cells": [
  {
   "cell_type": "code",
   "execution_count": 1,
   "id": "fa409683-0c98-48c5-9516-1be1098ac925",
   "metadata": {},
   "outputs": [],
   "source": [
    "import pandas as pd \n",
    "import numpy as np"
   ]
  },
  {
   "cell_type": "code",
   "execution_count": 2,
   "id": "0804eb6b-9873-4576-9b1b-8059510361ed",
   "metadata": {},
   "outputs": [],
   "source": [
    "data=pd.read_csv('Advertising.csv')"
   ]
  },
  {
   "cell_type": "code",
   "execution_count": null,
   "id": "7ea49aec-95ed-48f6-a591-99bfd0f2211e",
   "metadata": {},
   "outputs": [],
   "source": [
    "data.head()"
   ]
  },
  {
   "cell_type": "code",
   "execution_count": null,
   "id": "469d9391-8ccc-4c29-b77c-9926b8407118",
   "metadata": {},
   "outputs": [],
   "source": [
    "data = data.drop('0', axis=1)"
   ]
  },
  {
   "cell_type": "code",
   "execution_count": 7,
   "id": "21e4d389-a0c3-42db-bfab-7b0ddd7616b9",
   "metadata": {},
   "outputs": [
    {
     "name": "stdout",
     "output_type": "stream",
     "text": [
      "Mean Squared Error: 3.1740973539761073\n",
      "R-squared: 0.8994380241009119\n"
     ]
    }
   ],
   "source": [
    "# Import necessary libraries\n",
    "import pandas as pd\n",
    "from sklearn.model_selection import train_test_split\n",
    "from sklearn.linear_model import LinearRegression\n",
    "from sklearn.metrics import mean_squared_error\n",
    "\n",
    "from sklearn.metrics import mean_squared_error, r2_score\n",
    "\n",
    "X = data[['TV','Radio','Newspaper']]\n",
    "y = data['Sales']\n",
    "\n",
    "# Split data into training and testing sets\n",
    "X_train, X_test, y_train, y_test = train_test_split(X, y, test_size=0.2, random_state=42)\n",
    "\n",
    "# Initialize the model\n",
    "model = LinearRegression()\n",
    "\n",
    "# Train the model\n",
    "model.fit(X_train, y_train)\n",
    "\n",
    "# Predict on the test set\n",
    "y_pred = model.predict(X_test)\n",
    "\n",
    "mse = mean_squared_error(y_test, y_pred)\n",
    "r2 = r2_score(y_test, y_pred)\n",
    "\n",
    "print(\"Mean Squared Error:\", mse)\n",
    "print(\"R-squared:\", r2)\n"
   ]
  },
  {
   "cell_type": "code",
   "execution_count": 8,
   "id": "8ee9d2e5-72df-4086-a299-7ddad2006988",
   "metadata": {},
   "outputs": [
    {
     "name": "stdout",
     "output_type": "stream",
     "text": [
      "                            OLS Regression Results                            \n",
      "==============================================================================\n",
      "Dep. Variable:                  Sales   R-squared:                       0.896\n",
      "Model:                            OLS   Adj. R-squared:                  0.894\n",
      "Method:                 Least Squares   F-statistic:                     446.6\n",
      "Date:                Wed, 17 Jul 2024   Prob (F-statistic):           2.53e-76\n",
      "Time:                        19:42:58   Log-Likelihood:                -306.64\n",
      "No. Observations:                 160   AIC:                             621.3\n",
      "Df Residuals:                     156   BIC:                             633.6\n",
      "Df Model:                           3                                         \n",
      "Covariance Type:            nonrobust                                         \n",
      "==============================================================================\n",
      "                 coef    std err          t      P>|t|      [0.025      0.975]\n",
      "------------------------------------------------------------------------------\n",
      "const          2.9791      0.354      8.427      0.000       2.281       3.677\n",
      "TV             0.0447      0.002     28.544      0.000       0.042       0.048\n",
      "Radio          0.1892      0.010     19.518      0.000       0.170       0.208\n",
      "Newspaper      0.0028      0.007      0.392      0.696      -0.011       0.017\n",
      "==============================================================================\n",
      "Omnibus:                       67.697   Durbin-Watson:                   2.161\n",
      "Prob(Omnibus):                  0.000   Jarque-Bera (JB):              240.326\n",
      "Skew:                          -1.627   Prob(JB):                     6.52e-53\n",
      "Kurtosis:                       8.046   Cond. No.                         471.\n",
      "==============================================================================\n",
      "\n",
      "Notes:\n",
      "[1] Standard Errors assume that the covariance matrix of the errors is correctly specified.\n"
     ]
    }
   ],
   "source": [
    "import statsmodels.api as sm\n",
    "X_train = sm.add_constant(X_train)\n",
    "X_test = sm.add_constant(X_test)\n",
    "model_sm = sm.OLS(y_train, X_train).fit()\n",
    "print(model_sm.summary())"
   ]
  },
  {
   "cell_type": "code",
   "execution_count": 9,
   "id": "2c2e7185-3318-4e31-a2bb-bcf7315656c3",
   "metadata": {},
   "outputs": [
    {
     "name": "stdout",
     "output_type": "stream",
     "text": [
      "Predicted Sales: [12.52942275]\n"
     ]
    },
    {
     "name": "stderr",
     "output_type": "stream",
     "text": [
      "C:\\Users\\Yash\\anaconda3\\Lib\\site-packages\\sklearn\\base.py:493: UserWarning: X does not have valid feature names, but LinearRegression was fitted with feature names\n",
      "  warnings.warn(\n"
     ]
    }
   ],
   "source": [
    "\n",
    "input_data = {\n",
    "    'TV': 44.5,\n",
    "    'Radio': 39.3,\n",
    "    'Newspaper': 45.1\n",
    "}\n",
    "\n",
    "# Convert input data to a 2D array (reshape for a single sample)\n",
    "input_array = np.array([[input_data['TV'], input_data['Radio'], input_data['Newspaper']]])\n",
    "\n",
    "# Make a prediction\n",
    "predicted_sales = model.predict(input_array)\n",
    "\n",
    "print(f\"Predicted Sales: {predicted_sales}\")\n",
    "\n"
   ]
  },
  {
   "cell_type": "code",
   "execution_count": null,
   "id": "a8bc64a0-7ac5-4aa8-9a32-b9358c0551d5",
   "metadata": {},
   "outputs": [],
   "source": []
  },
  {
   "cell_type": "code",
   "execution_count": null,
   "id": "9c03fbd2-58d3-463d-bf17-144e586c1567",
   "metadata": {},
   "outputs": [],
   "source": []
  }
 ],
 "metadata": {
  "kernelspec": {
   "display_name": "Python 3 (ipykernel)",
   "language": "python",
   "name": "python3"
  },
  "language_info": {
   "codemirror_mode": {
    "name": "ipython",
    "version": 3
   },
   "file_extension": ".py",
   "mimetype": "text/x-python",
   "name": "python",
   "nbconvert_exporter": "python",
   "pygments_lexer": "ipython3",
   "version": "3.12.4"
  }
 },
 "nbformat": 4,
 "nbformat_minor": 5
}
